{
 "cells": [
  {
   "cell_type": "markdown",
   "id": "8fa54338-d066-40d7-8a91-ac183f056ce0",
   "metadata": {},
   "source": [
    "# Data collection"
   ]
  },
  {
   "cell_type": "code",
   "execution_count": 2,
   "id": "53e9839f-e320-4fd7-8b0b-05ec22461daa",
   "metadata": {},
   "outputs": [],
   "source": [
    "import datetime\n",
    "import json\n",
    "import os\n",
    "import mthree\n",
    "import numpy as np\n",
    "from qiskit import IBMQ\n",
    "from qiskit_experiments.framework import ExperimentEncoder\n",
    "from qiskit_research.mzm_generation import (\n",
    "    KitaevHamiltonianExperiment,\n",
    "    KitaevHamiltonianExperimentParameters,\n",
    ")\n",
    "from qiskit_research.mzm_generation.utils import transpile_circuit\n",
    "from qiskit_research.mzm_generation.utils import pick_qubit_layout, orbital_combinations\n",
    "\n",
    "from qiskit.circuit.library import RZGate\n",
    "from qiskit_research.utils.dynamical_decoupling import get_instruction_durations"
   ]
  },
  {
   "cell_type": "code",
   "execution_count": 3,
   "id": "f1abedc6-820d-4f74-8aa9-714b2a07f0cd",
   "metadata": {},
   "outputs": [],
   "source": [
    "# get backend\n",
    "\n",
    "# uncomment to use hardware backend\n",
    "IBMQ.load_account()\n",
    "provider = IBMQ.get_provider(hub='ibm-q-internal', group='deployed', project='default')\n",
    "backend_name = 'ibmq_guadalupe'\n",
    "\n",
    "# Aer simulator backend\n",
    "# provider = None\n",
    "# backend_name = \"aer_simulator\""
   ]
  },
  {
   "cell_type": "code",
   "execution_count": 25,
   "id": "381df658-1296-4972-9baa-e6af393139af",
   "metadata": {},
   "outputs": [
    {
     "name": "stdout",
     "output_type": "stream",
     "text": [
      "Using qubits [10, 7, 4, 1, 2, 3, 5, 8, 11, 14, 13, 12, 15].\n",
      "Total number of circuits: 3480\n"
     ]
    }
   ],
   "source": [
    "# experiment parameters\n",
    "n_modes = 13\n",
    "tunneling_values = [-1.0]\n",
    "superconducting_values = [1.0]\n",
    "chemical_potential_values = list(np.linspace(0.0, 3.0, num=5))\n",
    "occupied_orbitals_list = list(orbital_combinations(n_modes, threshold=2))\n",
    "# dynamical_decoupling_sequences = None\n",
    "dynamical_decoupling_sequences=[None, 'X2pm', 'XY4pm', 'XY8pm']\n",
    "num_dd_passes=1\n",
    "uhrig_spacing = False\n",
    "concat_layers = 1\n",
    "shots = 10000\n",
    "readout_calibration_shots = 10000\n",
    "\n",
    "# pick qubits\n",
    "qubits, backend_name, error_score = pick_qubit_layout(n_modes, backend_name, provider)\n",
    "print(f\"Using qubits {qubits}.\")\n",
    "\n",
    "# date\n",
    "date = datetime.datetime.now().isoformat()\n",
    "\n",
    "# create experiment\n",
    "params = KitaevHamiltonianExperimentParameters(\n",
    "    timestamp=date,\n",
    "    backend_name=backend_name,\n",
    "    qubits=qubits,\n",
    "    n_modes=n_modes,\n",
    "    tunneling_values=tunneling_values,\n",
    "    superconducting_values=superconducting_values,\n",
    "    chemical_potential_values=chemical_potential_values,\n",
    "    occupied_orbitals_list=occupied_orbitals_list,\n",
    "    dynamical_decoupling_sequences=dynamical_decoupling_sequences,\n",
    "    num_dd_passes=num_dd_passes,\n",
    "    uhrig_spacing=uhrig_spacing,\n",
    "    concat_layers=concat_layers,\n",
    "    seed=11364,\n",
    ")\n",
    "experiment = KitaevHamiltonianExperiment(params, provider)\n",
    "\n",
    "print(f\"Total number of circuits: {len(experiment.circuits())}\")"
   ]
  },
  {
   "cell_type": "code",
   "execution_count": 10,
   "id": "174a961a",
   "metadata": {},
   "outputs": [],
   "source": [
    "dt = experiment.backend.configuration().dt"
   ]
  },
  {
   "cell_type": "code",
   "execution_count": 26,
   "id": "9702acc6-535d-426c-9791-f116f14f8790",
   "metadata": {},
   "outputs": [
    {
     "name": "stdout",
     "output_type": "stream",
     "text": [
      "Scheduling readout calibration ...\n",
      "Scheduling experiment ...\n"
     ]
    },
    {
     "name": "stderr",
     "output_type": "stream",
     "text": [
      "Experiment cannot be saved because no experiment service is available. An experiment service is available, for example, when using an IBM Quantum backend.\n"
     ]
    },
    {
     "name": "stdout",
     "output_type": "stream",
     "text": [
      "Waiting for readout calibration data ...\n",
      "Readout calibration saved.\n",
      "CPU times: user 12min 26s, sys: 8min 24s, total: 20min 50s\n",
      "Wall time: 48min 18s\n"
     ]
    }
   ],
   "source": [
    "%%time\n",
    "\n",
    "# schedule readout calibration\n",
    "print(\"Scheduling readout calibration ...\")\n",
    "mit = mthree.M3Mitigation(experiment.backend)\n",
    "mit.cals_from_system(qubits, shots=readout_calibration_shots, async_cal=True)\n",
    "\n",
    "# schedule experiment jobs\n",
    "print(f\"Scheduling experiment ...\")\n",
    "# limit number of circuits per job to avoid timeouts\n",
    "experiment.backend.configuration().max_experiments = 300\n",
    "data = experiment.run(shots=shots)\n",
    "if provider:\n",
    "    # this only works if the Qiskit Experiments database service is available\n",
    "    data.save()\n",
    "\n",
    "# save readout calibration\n",
    "filename = f\"data/readout_calibration/{experiment.backend.name()}/{date}.json\"\n",
    "os.makedirs(os.path.dirname(filename), exist_ok=True)\n",
    "print(f\"Waiting for readout calibration data ...\")\n",
    "mit.cals_to_file(filename)\n",
    "print(f\"Readout calibration saved.\")\n",
    "\n",
    "# wait for experiment results\n",
    "# data.block_for_results()\n",
    "\n",
    "# save data\n",
    "# filename = f\"data/{params.backend_name}/{params.filename}.json\"\n",
    "# os.makedirs(os.path.dirname(filename), exist_ok=True)\n",
    "# with open(filename, \"w\") as f:\n",
    "#     json.dump(data, f, cls=ExperimentEncoder)\n",
    "\n",
    "# print(params.filename)"
   ]
  },
  {
   "cell_type": "code",
   "execution_count": 27,
   "id": "432fdb6b",
   "metadata": {},
   "outputs": [
    {
     "name": "stdout",
     "output_type": "stream",
     "text": [
      "2022-06-09T09:02:37.957291_ibmq_guadalupe_n13\n"
     ]
    }
   ],
   "source": [
    "data.block_for_results()\n",
    "\n",
    "filename = f\"data/{params.backend_name}/{params.filename}.json\"\n",
    "os.makedirs(os.path.dirname(filename), exist_ok=True)\n",
    "with open(filename, \"w\") as f:\n",
    "    json.dump(data, f, cls=ExperimentEncoder)\n",
    "\n",
    "print(params.filename)"
   ]
  },
  {
   "cell_type": "code",
   "execution_count": 15,
   "id": "61796dbf",
   "metadata": {},
   "outputs": [],
   "source": [
    "# dt"
   ]
  },
  {
   "cell_type": "code",
   "execution_count": 16,
   "id": "9e595ca7",
   "metadata": {},
   "outputs": [],
   "source": [
    "# print(get_instruction_durations(experiment.backend))"
   ]
  },
  {
   "cell_type": "code",
   "execution_count": 14,
   "id": "bb0c6dbd",
   "metadata": {},
   "outputs": [],
   "source": [
    "# experiment.circuits()[0].draw('mpl')"
   ]
  },
  {
   "cell_type": "code",
   "execution_count": 13,
   "id": "9a9035ab",
   "metadata": {},
   "outputs": [],
   "source": [
    "# from qiskit.visualization import timeline_drawer\n",
    "\n",
    "# timeline_drawer(transpile_circuit(\n",
    "#     experiment.circuits()[0],\n",
    "#     experiment.backend,\n",
    "#     initial_layout=list(experiment.physical_qubits),\n",
    "#     dynamical_decoupling_sequence=dynamical_decoupling_sequences[0],\n",
    "#     num_dd_passes=num_dd_passes,\n",
    "#     pulse_scaling=experiment.params.pulse_scaling,\n",
    "#     pauli_twirling=bool(experiment.params.num_twirled_circuits),\n",
    "#     seed=experiment.rng,\n",
    "# ))"
   ]
  },
  {
   "cell_type": "code",
   "execution_count": 12,
   "id": "77ca0edc",
   "metadata": {},
   "outputs": [],
   "source": [
    "# transpile_circuit(\n",
    "#     experiment.circuits()[0],\n",
    "#     experiment.backend,\n",
    "#     initial_layout=list(experiment.physical_qubits),\n",
    "#     dynamical_decoupling_sequence=dynamical_decoupling_sequences[0],\n",
    "#     num_dd_passes=3,\n",
    "#     pulse_scaling=experiment.params.pulse_scaling,\n",
    "#     pauli_twirling=bool(experiment.params.num_twirled_circuits),\n",
    "#     seed=experiment.rng,\n",
    "# ).draw('mpl')"
   ]
  },
  {
   "cell_type": "code",
   "execution_count": 9,
   "id": "23f959b0-0999-475e-b3c9-b962089e392c",
   "metadata": {},
   "outputs": [
    {
     "name": "stdout",
     "output_type": "stream",
     "text": [
      "2022-06-03T09:18:18.833925_ibmq_kolkata_n8\n"
     ]
    }
   ],
   "source": [
    "# wait for experiment results\n",
    "data.block_for_results()\n",
    "\n",
    "# save data\n",
    "filename = f\"data/{params.filename}.json\"\n",
    "os.makedirs(os.path.dirname(filename), exist_ok=True)\n",
    "with open(filename, \"w\") as f:\n",
    "    json.dump(data, f, cls=ExperimentEncoder)\n",
    "\n",
    "print(params.filename)"
   ]
  },
  {
   "cell_type": "code",
   "execution_count": null,
   "id": "2e56cafc",
   "metadata": {},
   "outputs": [],
   "source": []
  }
 ],
 "metadata": {
  "interpreter": {
   "hash": "8a70796d8bd4c886244be364c77102e03e6dcb731de115d5f8d3709b1e0cf024"
  },
  "kernelspec": {
   "display_name": "Python 3.9.12 ('DDResearch')",
   "language": "python",
   "name": "python3"
  },
  "language_info": {
   "codemirror_mode": {
    "name": "ipython",
    "version": 3
   },
   "file_extension": ".py",
   "mimetype": "text/x-python",
   "name": "python",
   "nbconvert_exporter": "python",
   "pygments_lexer": "ipython3",
   "version": "3.9.12"
  }
 },
 "nbformat": 4,
 "nbformat_minor": 5
}
