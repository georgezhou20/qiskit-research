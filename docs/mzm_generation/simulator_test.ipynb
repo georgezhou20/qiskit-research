{
 "cells": [
  {
   "cell_type": "code",
   "execution_count": 49,
   "metadata": {},
   "outputs": [],
   "source": [
    "import datetime\n",
    "import json\n",
    "import os\n",
    "import mthree\n",
    "import numpy as np\n",
    "from qiskit import IBMQ\n",
    "from qiskit_experiments.framework import ExperimentEncoder\n",
    "from qiskit_research.mzm_generation import (\n",
    "    KitaevHamiltonianExperiment,\n",
    "    KitaevHamiltonianExperimentParameters,\n",
    ")\n",
    "from qiskit_research.mzm_generation.utils import transpile_circuit\n",
    "from qiskit_research.mzm_generation.utils import pick_qubit_layout, orbital_combinations, get_backend\n",
    "\n",
    "from qiskit.circuit.library import RZGate\n",
    "from qiskit_research.utils.dynamical_decoupling import get_instruction_durations\n",
    "\n",
    "from qiskit.providers.aer import AerSimulator\n",
    "from qiskit.providers.aer.noise import NoiseModel\n",
    "\n",
    "from qiskit.transpiler import CouplingMap, InstructionDurations"
   ]
  },
  {
   "cell_type": "code",
   "execution_count": 51,
   "metadata": {},
   "outputs": [
    {
     "name": "stderr",
     "output_type": "stream",
     "text": [
      "ibmqfactory.load_account:WARNING:2022-07-07 14:37:05,649: Credentials are already in use. The existing account in the session will be replaced.\n"
     ]
    }
   ],
   "source": [
    "# get backend\n",
    "\n",
    "# uncomment to use hardware backend\n",
    "# IBMQ.load_account()\n",
    "# provider = IBMQ.get_provider(hub='ibm-q-internal', group='deployed', project='default')\n",
    "# backend_name = 'ibmq_guadalupe'\n",
    "\n",
    "# Aer simulator backend\n",
    "IBMQ.load_account()\n",
    "simulating_provider = IBMQ.get_provider(hub='ibm-q-internal', group='deployed', project='default')\n",
    "provider = None\n",
    "backend_name = \"aer_simulator\"\n",
    "simulating_backend_name = 'ibmq_guadalupe'"
   ]
  },
  {
   "cell_type": "code",
   "execution_count": 52,
   "metadata": {},
   "outputs": [
    {
     "name": "stdout",
     "output_type": "stream",
     "text": [
      "Using qubits [12, 13, 14, 11, 8, 5].\n"
     ]
    },
    {
     "name": "stderr",
     "output_type": "stream",
     "text": [
      "/Users/georgezhou/miniforge3/envs/DDResearch/lib/python3.9/site-packages/qiskit/providers/aer/noise/device/models.py:264: UserWarning: Device model returned an invalid T_2 relaxation time greater than the theoretical maximum value 2 * T_1 (inf > 2 * 86800.27280859138). Truncating to maximum value.\n",
      "  warn(\"Device model returned an invalid T_2 relaxation time greater than\"\n",
      "/Users/georgezhou/miniforge3/envs/DDResearch/lib/python3.9/site-packages/qiskit/providers/aer/noise/device/models.py:264: UserWarning: Device model returned an invalid T_2 relaxation time greater than the theoretical maximum value 2 * T_1 (inf > 2 * 86800.27280859138). Truncating to maximum value.\n",
      "  warn(\"Device model returned an invalid T_2 relaxation time greater than\"\n",
      "/Users/georgezhou/miniforge3/envs/DDResearch/lib/python3.9/site-packages/qiskit/providers/aer/noise/device/models.py:264: UserWarning: Device model returned an invalid T_2 relaxation time greater than the theoretical maximum value 2 * T_1 (inf > 2 * 86800.27280859138). Truncating to maximum value.\n",
      "  warn(\"Device model returned an invalid T_2 relaxation time greater than\"\n",
      "/Users/georgezhou/miniforge3/envs/DDResearch/lib/python3.9/site-packages/qiskit/providers/aer/noise/device/models.py:264: UserWarning: Device model returned an invalid T_2 relaxation time greater than the theoretical maximum value 2 * T_1 (inf > 2 * 86800.27280859138). Truncating to maximum value.\n",
      "  warn(\"Device model returned an invalid T_2 relaxation time greater than\"\n",
      "/Users/georgezhou/miniforge3/envs/DDResearch/lib/python3.9/site-packages/qiskit/providers/aer/noise/device/models.py:264: UserWarning: Device model returned an invalid T_2 relaxation time greater than the theoretical maximum value 2 * T_1 (inf > 2 * 86800.27280859138). Truncating to maximum value.\n",
      "  warn(\"Device model returned an invalid T_2 relaxation time greater than\"\n",
      "/Users/georgezhou/miniforge3/envs/DDResearch/lib/python3.9/site-packages/qiskit/providers/aer/noise/device/models.py:264: UserWarning: Device model returned an invalid T_2 relaxation time greater than the theoretical maximum value 2 * T_1 (inf > 2 * 86800.27280859138). Truncating to maximum value.\n",
      "  warn(\"Device model returned an invalid T_2 relaxation time greater than\"\n"
     ]
    },
    {
     "name": "stdout",
     "output_type": "stream",
     "text": [
      "Total number of circuits: 1560\n"
     ]
    }
   ],
   "source": [
    "# experiment parameters\n",
    "n_modes = 6\n",
    "tunneling_values = [-1.0]\n",
    "superconducting_values = [1.0]\n",
    "chemical_potential_values = list(np.linspace(0.0, 3.0, num=5))\n",
    "occupied_orbitals_list = list(orbital_combinations(n_modes, threshold=2))\n",
    "# dynamical_decoupling_sequences = None\n",
    "dynamical_decoupling_sequences=[None, 'X2pm', 'XY4pm', 'XY8pm']\n",
    "num_dd_passes=1\n",
    "uhrig_spacing = False\n",
    "concat_layers = 1\n",
    "shots = 10000\n",
    "readout_calibration_shots = 10000\n",
    "\n",
    "# pick qubits\n",
    "qubits, _, error_score = pick_qubit_layout(n_modes, simulating_backend_name, simulating_provider)\n",
    "print(f\"Using qubits {qubits}.\")\n",
    "\n",
    "# date\n",
    "date = datetime.datetime.now().isoformat()\n",
    "\n",
    "# create experiment\n",
    "params = KitaevHamiltonianExperimentParameters(\n",
    "    timestamp=date,\n",
    "    backend_name=backend_name,\n",
    "    qubits=qubits,\n",
    "    n_modes=n_modes,\n",
    "    tunneling_values=tunneling_values,\n",
    "    superconducting_values=superconducting_values,\n",
    "    chemical_potential_values=chemical_potential_values,\n",
    "    occupied_orbitals_list=occupied_orbitals_list,\n",
    "    dynamical_decoupling_sequences=dynamical_decoupling_sequences,\n",
    "    num_dd_passes=num_dd_passes,\n",
    "    uhrig_spacing=uhrig_spacing,\n",
    "    concat_layers=concat_layers,\n",
    "    seed=11364,\n",
    ")\n",
    "experiment = KitaevHamiltonianExperiment(params, simulating_provider)\n",
    "\n",
    "print(f\"Total number of circuits: {len(experiment.circuits())}\")"
   ]
  },
  {
   "cell_type": "code",
   "execution_count": 44,
   "metadata": {},
   "outputs": [
    {
     "name": "stdout",
     "output_type": "stream",
     "text": [
      "Scheduling readout calibration ...\n",
      "Scheduling experiment ...\n",
      "Waiting for readout calibration data ...\n",
      "Readout calibration saved.\n",
      "CPU times: user 13.8 s, sys: 718 ms, total: 14.5 s\n",
      "Wall time: 14 s\n"
     ]
    }
   ],
   "source": [
    "%%time\n",
    "\n",
    "# schedule readout calibration\n",
    "print(\"Scheduling readout calibration ...\")\n",
    "mit = mthree.M3Mitigation(experiment.backend)\n",
    "mit.cals_from_system(qubits, shots=readout_calibration_shots, async_cal=True)\n",
    "\n",
    "# schedule experiment jobs\n",
    "print(f\"Scheduling experiment ...\")\n",
    "# limit number of circuits per job to avoid timeouts\n",
    "experiment.backend.configuration().max_experiments = 300\n",
    "data = experiment.run(shots=shots)\n",
    "if provider:\n",
    "    # this only works if the Qiskit Experiments database service is available\n",
    "    data.save()\n",
    "\n",
    "# save readout calibration\n",
    "filename = f\"data/readout_calibration/{params.backend_name}/{date}.json\"\n",
    "os.makedirs(os.path.dirname(filename), exist_ok=True)\n",
    "print(f\"Waiting for readout calibration data ...\")\n",
    "mit.cals_to_file(filename)\n",
    "print(f\"Readout calibration saved.\")"
   ]
  },
  {
   "cell_type": "code",
   "execution_count": 45,
   "metadata": {},
   "outputs": [
    {
     "name": "stdout",
     "output_type": "stream",
     "text": [
      "2022-07-05T14:30:57.441035_aer_simulator_n6\n"
     ]
    }
   ],
   "source": [
    "data.block_for_results()\n",
    "\n",
    "filename = f\"data/{params.backend_name}/{params.filename}.json\"\n",
    "os.makedirs(os.path.dirname(filename), exist_ok=True)\n",
    "with open(filename, \"w\") as f:\n",
    "    json.dump(data, f, cls=ExperimentEncoder)\n",
    "\n",
    "print(params.filename)"
   ]
  },
  {
   "cell_type": "code",
   "execution_count": null,
   "metadata": {},
   "outputs": [],
   "source": []
  }
 ],
 "metadata": {
  "kernelspec": {
   "display_name": "Python 3.9.12 ('DDResearch')",
   "language": "python",
   "name": "python3"
  },
  "language_info": {
   "codemirror_mode": {
    "name": "ipython",
    "version": 3
   },
   "file_extension": ".py",
   "mimetype": "text/x-python",
   "name": "python",
   "nbconvert_exporter": "python",
   "pygments_lexer": "ipython3",
   "version": "3.9.12"
  },
  "orig_nbformat": 4,
  "vscode": {
   "interpreter": {
    "hash": "8a70796d8bd4c886244be364c77102e03e6dcb731de115d5f8d3709b1e0cf024"
   }
  }
 },
 "nbformat": 4,
 "nbformat_minor": 2
}
