{
 "cells": [
  {
   "cell_type": "code",
   "execution_count": 2,
   "metadata": {},
   "outputs": [],
   "source": [
    "import datetime\n",
    "import json\n",
    "import os\n",
    "import mthree\n",
    "import numpy as np\n",
    "from qiskit import IBMQ\n",
    "from qiskit_experiments.framework import ExperimentEncoder\n",
    "from qiskit_research.mzm_generation import (\n",
    "    KitaevHamiltonianExperiment,\n",
    "    KitaevHamiltonianExperimentParameters,\n",
    ")\n",
    "from qiskit_research.mzm_generation.utils import transpile_circuit\n",
    "from qiskit_research.mzm_generation.utils import pick_qubit_layout, orbital_combinations\n",
    "\n",
    "from qiskit.circuit.library import RZGate\n",
    "from qiskit_research.utils.dynamical_decoupling import get_instruction_durations\n",
    "\n",
    "from qiskit.visualization import timeline_drawer"
   ]
  },
  {
   "cell_type": "code",
   "execution_count": 3,
   "metadata": {},
   "outputs": [],
   "source": [
    "# get backend\n",
    "\n",
    "# uncomment to use hardware backend\n",
    "IBMQ.load_account()\n",
    "provider = IBMQ.get_provider(hub='ibm-q-internal', group='deployed', project='default')\n",
    "backend_name = 'ibmq_guadalupe'\n",
    "\n",
    "# Aer simulator backend\n",
    "# provider = None\n",
    "# backend_name = \"aer_simulator\""
   ]
  },
  {
   "cell_type": "code",
   "execution_count": 6,
   "metadata": {},
   "outputs": [
    {
     "name": "stdout",
     "output_type": "stream",
     "text": [
      "Using qubits [12, 13, 14, 11, 8, 5].\n",
      "Total number of circuits: 78\n"
     ]
    }
   ],
   "source": [
    "# experiment parameters\n",
    "n_modes = 6\n",
    "tunneling_values = [-1.0]\n",
    "superconducting_values = [1.0]\n",
    "# chemical_potential_values = list(np.linspace(0.0, 3.0, num=5))\n",
    "chemical_potential_values = [3]\n",
    "occupied_orbitals_list = list(orbital_combinations(n_modes, threshold=2))\n",
    "# dynamical_decoupling_sequences = None\n",
    "dynamical_decoupling_sequences=[None]\n",
    "num_dd_passes=1\n",
    "uhrig_spacing = False\n",
    "concat_layers = 1\n",
    "shots = 10000\n",
    "readout_calibration_shots = 10000\n",
    "\n",
    "# pick qubits\n",
    "qubits, backend_name, error_score = pick_qubit_layout(n_modes, backend_name, provider)\n",
    "print(f\"Using qubits {qubits}.\")\n",
    "\n",
    "# date\n",
    "date = datetime.datetime.now().isoformat()\n",
    "\n",
    "# create experiment\n",
    "params = KitaevHamiltonianExperimentParameters(\n",
    "    timestamp=date,\n",
    "    backend_name=backend_name,\n",
    "    qubits=qubits,\n",
    "    n_modes=n_modes,\n",
    "    tunneling_values=tunneling_values,\n",
    "    superconducting_values=superconducting_values,\n",
    "    chemical_potential_values=chemical_potential_values,\n",
    "    occupied_orbitals_list=occupied_orbitals_list,\n",
    "    dynamical_decoupling_sequences=dynamical_decoupling_sequences,\n",
    "    num_dd_passes=num_dd_passes,\n",
    "    uhrig_spacing=uhrig_spacing,\n",
    "    concat_layers=concat_layers,\n",
    "    seed=11364,\n",
    ")\n",
    "experiment = KitaevHamiltonianExperiment(params, provider)\n",
    "\n",
    "print(f\"Total number of circuits: {len(experiment.circuits())}\")"
   ]
  },
  {
   "cell_type": "code",
   "execution_count": null,
   "metadata": {},
   "outputs": [],
   "source": [
    "circ = transpile_circuit(\n",
    "    experiment.circuits()[0],\n",
    "    experiment.backend,\n",
    "    initial_layout=list(experiment.physical_qubits),\n",
    "    dynamical_decoupling_sequence=dynamical_decoupling_sequences[0],\n",
    "    num_dd_passes=1,\n",
    "    uhrig_spacing=False,\n",
    "    concat_layers=1,\n",
    "    pulse_scaling=experiment.params.pulse_scaling,\n",
    "    pauli_twirling=bool(experiment.params.num_twirled_circuits),\n",
    "    seed=experiment.rng,\n",
    ")\n",
    "timeline_drawer(circ).savefig('foldertest/test.png')"
   ]
  },
  {
   "cell_type": "code",
   "execution_count": 4,
   "metadata": {},
   "outputs": [],
   "source": [
    "sequences = ['X2pm', 'XY4pm', 'XY8pm']\n",
    "tunneling_values = [-1.0]\n",
    "superconducting_values = [1.0]\n",
    "chemical_potential_values = [3]\n",
    "\n",
    "for n in range(12, 13):\n",
    "    occupied_orbitals_list = list(orbital_combinations(n, threshold=2))\n",
    "    qubits, backend_name, error_score = pick_qubit_layout(n, backend_name, provider)\n",
    "    date = datetime.datetime.now().isoformat()\n",
    "    \n",
    "    for sequence in sequences:\n",
    "        folder_name = f\"timeline-diagrams/n{n}/{sequence}\"\n",
    "        \n",
    "        params = KitaevHamiltonianExperimentParameters(\n",
    "            timestamp=date,\n",
    "            backend_name=backend_name,\n",
    "            qubits=qubits,\n",
    "            n_modes=n,\n",
    "            tunneling_values=tunneling_values,\n",
    "            superconducting_values=superconducting_values,\n",
    "            chemical_potential_values=chemical_potential_values,\n",
    "            occupied_orbitals_list=occupied_orbitals_list,\n",
    "            dynamical_decoupling_sequences=[sequence],\n",
    "            num_dd_passes=1,\n",
    "            uhrig_spacing=False,\n",
    "            concat_layers=1,\n",
    "            seed=11364,\n",
    "        )\n",
    "\n",
    "        experiment = KitaevHamiltonianExperiment(params, provider)\n",
    "\n",
    "        i = 1\n",
    "        for circuit in experiment.circuits():\n",
    "            circ = transpile_circuit(\n",
    "                circuit,\n",
    "                experiment.backend,\n",
    "                initial_layout=list(experiment.physical_qubits),\n",
    "                dynamical_decoupling_sequence=sequence,\n",
    "                num_dd_passes=1,\n",
    "                uhrig_spacing=False,\n",
    "                concat_layers=1,\n",
    "                pulse_scaling=experiment.params.pulse_scaling,\n",
    "                pauli_twirling=bool(experiment.params.num_twirled_circuits),\n",
    "                seed=experiment.rng,\n",
    "            )\n",
    "\n",
    "            os.makedirs(os.path.dirname(f\"{folder_name}/{i}.png\"), exist_ok=True)\n",
    "            timeline_drawer(circ).savefig(f\"{folder_name}/{i}.png\")\n",
    "            i += 1\n",
    "            "
   ]
  },
  {
   "cell_type": "code",
   "execution_count": null,
   "metadata": {},
   "outputs": [],
   "source": []
  }
 ],
 "metadata": {
  "kernelspec": {
   "display_name": "Python 3.9.12 ('DDResearch')",
   "language": "python",
   "name": "python3"
  },
  "language_info": {
   "codemirror_mode": {
    "name": "ipython",
    "version": 3
   },
   "file_extension": ".py",
   "mimetype": "text/x-python",
   "name": "python",
   "nbconvert_exporter": "python",
   "pygments_lexer": "ipython3",
   "version": "3.9.12"
  },
  "orig_nbformat": 4,
  "vscode": {
   "interpreter": {
    "hash": "8a70796d8bd4c886244be364c77102e03e6dcb731de115d5f8d3709b1e0cf024"
   }
  }
 },
 "nbformat": 4,
 "nbformat_minor": 2
}
