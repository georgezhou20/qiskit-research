{
 "cells": [
  {
   "cell_type": "code",
   "execution_count": 1,
   "metadata": {},
   "outputs": [
    {
     "name": "stderr",
     "output_type": "stream",
     "text": [
      "/Users/georgezhou/miniforge3/envs/DDResearch/lib/python3.9/site-packages/qiskit_experiments/framework/json.py:584: UserWarning: Could not deserialize instance of class <class 'qiskit.providers.ibmq.accountprovider.AccountProvider'> from settings {}. \n",
      "The following exception was raised:\n",
      "Traceback (most recent call last):\n",
      "  File \"/Users/georgezhou/miniforge3/envs/DDResearch/lib/python3.9/site-packages/qiskit_experiments/framework/json.py\", line 338, in _deserialize_object\n",
      "    return cls(**settings)\n",
      "TypeError: __init__() missing 2 required positional arguments: 'credentials' and 'factory'\n",
      "\n",
      "  return _deserialize_object(obj_val)\n",
      "/Users/georgezhou/miniforge3/envs/DDResearch/lib/python3.9/site-packages/qiskit_experiments/framework/json.py:584: UserWarning: Could not deserialize instance of class <class 'qiskit_research.mzm_generation.experiment.KitaevHamiltonianExperiment'> from value ExperimentConfig(cls=<class 'qiskit_research.mzm_generation.experiment.KitaevHamiltonianExperiment'>, args=[{'timestamp': '2022-06-08T19:28:08.685402', 'backend_name': 'ibmq_guadalupe', 'qubits': [7, 4, 1, 2, 3, 5, 8, 11, 14, 13, 12, 15], 'n_modes': 12, 'tunneling_values': [-1.0], 'superconducting_values': [1.0], 'chemical_potential_values': [0.0, 0.75, 1.5, 2.25, 3.0], 'occupied_orbitals_list': [[], [0, 1, 2, 3, 4, 5, 6, 7, 8, 9, 10, 11], [0], [1, 2, 3, 4, 5, 6, 7, 8, 9, 10, 11], [1], [0, 2, 3, 4, 5, 6, 7, 8, 9, 10, 11]], 'dynamical_decoupling_sequences': [None, 'X2pm', 'XY4pm', 'XY8pm'], 'num_dd_passes': 1, 'uhrig_spacing': False, 'concat_layers': 1, 'pulse_scaling': False, 'num_twirled_circuits': 0, 'seed': 11364, 'basedir': None}], kwargs={'provider': {'class': <class 'qiskit.providers.ibmq.accountprovider.AccountProvider'>, 'settings': {}, 'version': '0.20.2'}}, experiment_options={}, transpile_options={}, run_options={'shots': 10000}, version='0.3.1') using __json_decode__ method. \n",
      "The following exception was raised:\n",
      "Traceback (most recent call last):\n",
      "  File \"/Users/georgezhou/miniforge3/envs/DDResearch/lib/python3.9/site-packages/qiskit_experiments/framework/json.py\", line 329, in _deserialize_object\n",
      "    return cls.__json_decode__(settings)\n",
      "  File \"/Users/georgezhou/miniforge3/envs/DDResearch/lib/python3.9/site-packages/qiskit_experiments/framework/base_experiment.py\", line 519, in __json_decode__\n",
      "    return cls.from_config(value)\n",
      "  File \"/Users/georgezhou/miniforge3/envs/DDResearch/lib/python3.9/site-packages/qiskit_experiments/framework/base_experiment.py\", line 188, in from_config\n",
      "    ret = cls(*config.args, **config.kwargs)\n",
      "  File \"/Users/georgezhou/Documents/GitHub/qiskit-research/qiskit_research/mzm_generation/experiment.py\", line 102, in __init__\n",
      "    self.rng = np.random.default_rng(params.seed)\n",
      "AttributeError: 'dict' object has no attribute 'seed'\n",
      "\n",
      "  return _deserialize_object(obj_val)\n"
     ]
    }
   ],
   "source": [
    "\n",
    "import json\n",
    "import os\n",
    "import matplotlib.pyplot as plt\n",
    "import numpy as np\n",
    "from qiskit_experiments.framework import (\n",
    "    ExperimentData,\n",
    "    ExperimentDecoder,\n",
    "    ExperimentEncoder,\n",
    ")\n",
    "from qiskit_research.mzm_generation import KitaevHamiltonianAnalysis\n",
    "# load data from local disk\n",
    "\n",
    "filenames = [\n",
    "    \"2022-06-08T19:28:08.685402_ibmq_guadalupe_n12\",\n",
    "]\n",
    "\n",
    "# directory with test data, edit this as appropriate\n",
    "basedir = \"/Users/georgezhou/Documents/GitHub/qiskit-research/docs/mzm_generation\"\n",
    "# basedir = \"\"\n",
    "# data = []\n",
    "data_raw = []\n",
    "for file in filenames:\n",
    "    with open(os.path.join(basedir, \"data/ibmq_guadalupe\", f\"{file}.json\")) as f:\n",
    "        # this may raise an error from Qiskit Experiments but it should be safe to ignore\n",
    "        data_raw.append(json.load(f, cls=ExperimentDecoder))"
   ]
  },
  {
   "cell_type": "code",
   "execution_count": 2,
   "metadata": {},
   "outputs": [
    {
     "name": "stderr",
     "output_type": "stream",
     "text": [
      "/Users/georgezhou/miniforge3/envs/DDResearch/lib/python3.9/site-packages/numpy/linalg/linalg.py:2146: RuntimeWarning: divide by zero encountered in det\n",
      "  r = _umath_linalg.det(a, signature=signature)\n",
      "/Users/georgezhou/miniforge3/envs/DDResearch/lib/python3.9/site-packages/numpy/linalg/linalg.py:2146: RuntimeWarning: invalid value encountered in det\n",
      "  r = _umath_linalg.det(a, signature=signature)\n",
      "/Users/georgezhou/Documents/GitHub/qiskit-research/qiskit_research/mzm_generation/utils.py:113: UserWarning: The default value for `display_format` will be changed from 'dense' to 'sparse' in version 0.3.0. Once that happens, you must specify display_format='dense' directly.\n",
      "  return FermionicOp(f\"-_{index}\") + FermionicOp(f\"+_{index}\")\n",
      "Analysis callback failed [Experiment ID: be6d8332-1938-4a98-8f01-bb01aecbb0d5][Analysis Callback ID: 43e929a3ca0e46eca2a9b576f2e61112]:\n",
      "Traceback (most recent call last):\n",
      "  File \"/Users/georgezhou/miniforge3/envs/DDResearch/lib/python3.9/site-packages/qiskit_experiments/database_service/db_experiment_data.py\", line 535, in _run_analysis_callback\n",
      "    callback(self, **kwargs)\n",
      "  File \"/Users/georgezhou/miniforge3/envs/DDResearch/lib/python3.9/site-packages/qiskit_experiments/framework/base_analysis.py\", line 157, in run_analysis\n",
      "    results, figures = analysis._run_analysis(expdata)\n",
      "  File \"/Users/georgezhou/Documents/GitHub/qiskit-research/qiskit_research/mzm_generation/analysis.py\", line 113, in _run_analysis\n",
      "    results = list(self._compute_analysis_results(experiment_params, data, mit))\n",
      "  File \"/Users/georgezhou/Documents/GitHub/qiskit-research/qiskit_research/mzm_generation/analysis.py\", line 358, in _compute_analysis_results\n",
      "    yield from self._compute_simulation_results(chemical_potential_data, tunneling, superconducting, params)\n",
      "  File \"/Users/georgezhou/Documents/GitHub/qiskit-research/qiskit_research/mzm_generation/analysis.py\", line 567, in _compute_simulation_results\n",
      "    site_correlation, corr_exact\n",
      "  File \"/Users/georgezhou/Documents/GitHub/qiskit-research/qiskit_research/mzm_generation/utils.py\", line 325, in expectation_from_correlation_matrix\n",
      "    dim, _ = corr.shape\n",
      "AttributeError: 'dict' object has no attribute 'shape'\n",
      "\n"
     ]
    },
    {
     "name": "stdout",
     "output_type": "stream",
     "text": [
      "CPU times: user 5h 43min 12s, sys: 3min, total: 5h 46min 13s\n",
      "Wall time: 8h 12min 43s\n"
     ]
    }
   ],
   "source": [
    "%%time\n",
    "# run analysis\n",
    "analysis = KitaevHamiltonianAnalysis()\n",
    "data_list = []\n",
    "for experiment_data in data_raw:\n",
    "    data = analysis.run(experiment_data, replace_results=True)\n",
    "    data.block_for_results()\n",
    "    data_list.append(data)"
   ]
  },
  {
   "cell_type": "code",
   "execution_count": null,
   "metadata": {},
   "outputs": [],
   "source": []
  }
 ],
 "metadata": {
  "interpreter": {
   "hash": "8a70796d8bd4c886244be364c77102e03e6dcb731de115d5f8d3709b1e0cf024"
  },
  "kernelspec": {
   "display_name": "Python 3.9.12 ('DDResearch')",
   "language": "python",
   "name": "python3"
  },
  "language_info": {
   "codemirror_mode": {
    "name": "ipython",
    "version": 3
   },
   "file_extension": ".py",
   "mimetype": "text/x-python",
   "name": "python",
   "nbconvert_exporter": "python",
   "pygments_lexer": "ipython3",
   "version": "3.9.12"
  },
  "orig_nbformat": 4
 },
 "nbformat": 4,
 "nbformat_minor": 2
}
