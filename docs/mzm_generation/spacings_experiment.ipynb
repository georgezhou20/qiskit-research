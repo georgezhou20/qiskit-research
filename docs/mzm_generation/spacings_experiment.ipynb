{
 "cells": [
  {
   "cell_type": "code",
   "execution_count": 1,
   "metadata": {},
   "outputs": [],
   "source": [
    "import datetime\n",
    "import json\n",
    "import os\n",
    "import mthree\n",
    "import numpy as np\n",
    "from qiskit import IBMQ\n",
    "from qiskit_experiments.framework import ExperimentEncoder\n",
    "from qiskit_research.mzm_generation import (\n",
    "    KitaevHamiltonianExperiment,\n",
    "    KitaevHamiltonianExperimentParameters,\n",
    ")\n",
    "from qiskit_research.mzm_generation.utils import transpile_circuit\n",
    "from qiskit_research.mzm_generation.utils import pick_qubit_layout, orbital_combinations\n",
    "\n",
    "from qiskit.circuit.library import RZGate\n",
    "from qiskit_research.utils.dynamical_decoupling import get_instruction_durations\n",
    "\n",
    "from qiskit_experiments.framework import BatchExperiment"
   ]
  },
  {
   "cell_type": "code",
   "execution_count": 2,
   "metadata": {},
   "outputs": [],
   "source": [
    "# get backend\n",
    "\n",
    "# uncomment to use hardware backend\n",
    "IBMQ.load_account()\n",
    "provider = IBMQ.get_provider(hub='ibm-q-internal', group='deployed', project='default')\n",
    "backend_name = 'ibmq_guadalupe'\n",
    "\n",
    "# Aer simulator backend\n",
    "# provider = None\n",
    "# backend_name = \"aer_simulator\""
   ]
  },
  {
   "cell_type": "code",
   "execution_count": 3,
   "metadata": {},
   "outputs": [
    {
     "name": "stdout",
     "output_type": "stream",
     "text": [
      "n = 9 Using qubits [2, 3, 5, 8, 11, 14, 13, 12, 15].\n",
      "Total number of circuits for n = 9: 2520\n"
     ]
    }
   ],
   "source": [
    "# experiment parameters\n",
    "n_modes = [9]\n",
    "tunneling_values = [-1.0]\n",
    "superconducting_values = [1.0]\n",
    "chemical_potential_values = list(np.linspace(0.0, 3.0, num=5))\n",
    "# dynamical_decoupling_sequences = None\n",
    "dynamical_decoupling_sequences=[None, 'X2pm', 'XY4pm', 'XY8pm']\n",
    "num_dd_passes=1\n",
    "shots = 10000\n",
    "readout_calibration_shots = 10000\n",
    "\n",
    "experiments = []\n",
    "\n",
    "for n in n_modes:\n",
    "    # pick qubits\n",
    "    qubits, backend_name, error_score = pick_qubit_layout(n, backend_name, provider)\n",
    "    print(f\"n = {n} Using qubits {qubits}.\")\n",
    "\n",
    "    occupied_orbitals_list = list(orbital_combinations(n, threshold=2))\n",
    "\n",
    "    # date\n",
    "    date = datetime.datetime.now().isoformat()\n",
    "\n",
    "    # create experiment\n",
    "    params = KitaevHamiltonianExperimentParameters(\n",
    "        timestamp=date,\n",
    "        backend_name=backend_name,\n",
    "        qubits=qubits,\n",
    "        n_modes=n,\n",
    "        tunneling_values=tunneling_values,\n",
    "        superconducting_values=superconducting_values,\n",
    "        chemical_potential_values=chemical_potential_values,\n",
    "        occupied_orbitals_list=occupied_orbitals_list,\n",
    "        dynamical_decoupling_sequences=dynamical_decoupling_sequences,\n",
    "        num_dd_passes=num_dd_passes,\n",
    "        seed=11364,\n",
    "    )\n",
    "    experiment = KitaevHamiltonianExperiment(params, provider)\n",
    "    experiments.append(experiment)\n",
    "\n",
    "    print(f\"Total number of circuits for n = {n}: {len(experiment.circuits())}\")"
   ]
  },
  {
   "cell_type": "code",
   "execution_count": 4,
   "metadata": {},
   "outputs": [
    {
     "name": "stdout",
     "output_type": "stream",
     "text": [
      "Scheduling readout calibration n = {n}...\n",
      "Scheduling experiment n = 9...\n",
      "Waiting for readout calibration data ...\n",
      "Readout calibration saved.\n"
     ]
    },
    {
     "name": "stderr",
     "output_type": "stream",
     "text": [
      "Job was cancelled before completion [Job ID: 629e0faab4d2d3cb5778cb57]\n",
      "Job was cancelled before completion [Job ID: 629e0fa3a70e338b2e60a76f]\n",
      "Job was cancelled before completion [Job ID: 629e0fb2c6235224339e3424]\n",
      "Job was cancelled before completion [Job ID: 629e0f9ca3847125bd452593]\n"
     ]
    },
    {
     "name": "stdout",
     "output_type": "stream",
     "text": [
      "2022-06-06T10:26:51.968588_ibmq_guadalupe_n9\n",
      "CPU times: user 4min 12s, sys: 6.1 s, total: 4min 18s\n",
      "Wall time: 4h 9min 28s\n"
     ]
    }
   ],
   "source": [
    "%%time\n",
    "# schedule readout calibration\n",
    "for experiment in experiments:\n",
    "    n = experiment.params.n_modes\n",
    "    print(\"Scheduling readout calibration n = {n}...\")\n",
    "    mit = mthree.M3Mitigation(experiment.backend)\n",
    "    mit.cals_from_system(experiment.params.qubits, shots=readout_calibration_shots, async_cal=True)\n",
    "\n",
    "    # schedule experiment jobs\n",
    "    print(f\"Scheduling experiment n = {n}...\")\n",
    "    # limit number of circuits per job to avoid timeouts\n",
    "    experiment.backend.configuration().max_experiments = 300\n",
    "    data = experiment.run(shots=shots)\n",
    "    # if provider:\n",
    "        # this only works if the Qiskit Experiments database service is available\n",
    "        # data.save()\n",
    "\n",
    "    # save readout calibration\n",
    "    filename = f\"data/readout_calibration/{experiment.backend.name()}/{date}.json\"\n",
    "    os.makedirs(os.path.dirname(filename), exist_ok=True)\n",
    "    print(f\"Waiting for readout calibration data ...\")\n",
    "    mit.cals_to_file(filename)\n",
    "    print(f\"Readout calibration saved.\")\n",
    "\n",
    "    data.block_for_results()\n",
    "\n",
    "    # save data\n",
    "    filename = f\"data/{params.filename}.json\"\n",
    "    os.makedirs(os.path.dirname(filename), exist_ok=True)\n",
    "    with open(filename, \"w\") as f:\n",
    "        json.dump(data, f, cls=ExperimentEncoder)\n",
    "    print(params.filename)"
   ]
  },
  {
   "cell_type": "code",
   "execution_count": null,
   "metadata": {},
   "outputs": [],
   "source": []
  }
 ],
 "metadata": {
  "interpreter": {
   "hash": "8a70796d8bd4c886244be364c77102e03e6dcb731de115d5f8d3709b1e0cf024"
  },
  "kernelspec": {
   "display_name": "Python 3.9.12 ('DDResearch')",
   "language": "python",
   "name": "python3"
  },
  "language_info": {
   "codemirror_mode": {
    "name": "ipython",
    "version": 3
   },
   "file_extension": ".py",
   "mimetype": "text/x-python",
   "name": "python",
   "nbconvert_exporter": "python",
   "pygments_lexer": "ipython3",
   "version": "3.9.12"
  },
  "orig_nbformat": 4
 },
 "nbformat": 4,
 "nbformat_minor": 2
}
